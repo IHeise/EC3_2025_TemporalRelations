{
 "cells": [
  {
   "cell_type": "markdown",
   "id": "f898e83a",
   "metadata": {},
   "source": [
    "# Enabeling Analysis of Spatial and Temporal Dependencies of Heterogenoeus Infrastructure Data Using Knowledge Graphs"
   ]
  },
  {
   "cell_type": "markdown",
   "id": "cf8c028c",
   "metadata": {},
   "source": [
    "### Preparation"
   ]
  },
  {
   "cell_type": "code",
   "execution_count": 1,
   "id": "cec8af0a",
   "metadata": {
    "scrolled": true
   },
   "outputs": [
    {
     "name": "stdout",
     "output_type": "stream",
     "text": [
      "All packages successfully installed, everything needed imported\n"
     ]
    }
   ],
   "source": [
    "%run Preparation.ipynb"
   ]
  },
  {
   "cell_type": "markdown",
   "id": "bacfe259",
   "metadata": {},
   "source": [
    "### Set up Database"
   ]
  },
  {
   "cell_type": "markdown",
   "id": "dae2a650",
   "metadata": {},
   "source": [
    "The database is set up in a separate file. A neo4j Aura instance is required.\n",
    "\n",
    "If the connection details are already known, they can be entered directly in the following field:"
   ]
  },
  {
   "cell_type": "code",
   "execution_count": 2,
   "id": "2cdf239f",
   "metadata": {},
   "outputs": [],
   "source": [
    "uri = \"neo4j+ssc://xxx.databases.neo4j.io\" #Enter your DB instance URI here\n",
    "user = \"neo4j\"\n",
    "password = \"xxx\" #Enter your DB password here\n",
    "\n",
    "if password != \"xxx\":\n",
    "    # writing credentials in the neo4j_config.py file\n",
    "    with open(\"neo4j_config.py\", \"w\") as f:\n",
    "            f.write(f'uri = \"{uri}\"\\n')\n",
    "            f.write(f'user = \"{user}\"\\n')\n",
    "            f.write(f'password = \"{password}\"\\n')\n",
    "        \n",
    "import neo4j_config\n",
    "#connection\n",
    "DB_connection = DBinteraction(uri=neo4j_config.uri, user=neo4j_config.user, password=neo4j_config.password)\n",
    "#DB_connection.send_query(query=\"MATCH (n) RETURN (n)\")\n",
    "# driver \n",
    "driver = GraphDatabase.driver(uri = uri, auth = (user, password))"
   ]
  },
  {
   "cell_type": "markdown",
   "id": "8d270480",
   "metadata": {},
   "source": [
    " If you need helb with setting up the data base further instructions can be found in [Set up Database](./Setup.ipynb) "
   ]
  },
  {
   "cell_type": "markdown",
   "id": "ad549c59",
   "metadata": {},
   "source": [
    "Tip: You can check out the graph created through the (sub-)processes at every point by querying it in the online version of the neo4j browser: https://console-preview.neo4j.io/tools/query"
   ]
  },
  {
   "cell_type": "markdown",
   "id": "fc4731cc",
   "metadata": {},
   "source": [
    "## General Approach"
   ]
  },
  {
   "cell_type": "markdown",
   "id": "0c7ab426",
   "metadata": {},
   "source": [
    "Graph representations of the legacy data are used to evaluate the heterogeneous data comprehensively. Furthermore, the spatial and temporal context of the data is modeled in additional graphs. Combining all subgraphs forms the digital representation of road infrastructure as a system-of-systems. Relations between road infrastructure elements can thus be described by pattern graphs as subsets of the combined road infrastructure graph. Hence, the association of elements in a specific relation is enabled by searching for occurrences of a particular pattern graph in the overall road infrastructure graph."
   ]
  },
  {
   "cell_type": "markdown",
   "id": "cafc35dc",
   "metadata": {},
   "source": [
    "![Graphbased Approach](./img/graphs.png)"
   ]
  },
  {
   "cell_type": "markdown",
   "id": "4bc33997",
   "metadata": {},
   "source": [
    "In [Graph Representations Legacy Data](./Graph_Representations_Legacy_Data.ipynb) the anonymized example data stemming from the legacy data conversion is presented."
   ]
  },
  {
   "cell_type": "markdown",
   "id": "efd6eed2",
   "metadata": {},
   "source": [
    "According to the method presented in the corresponding paper, spatial and temporal relations are evaluated in a sequential process."
   ]
  },
  {
   "cell_type": "markdown",
   "id": "4972c92d",
   "metadata": {},
   "source": [
    "## Spatial Relations"
   ]
  },
  {
   "cell_type": "markdown",
   "id": "d940f41b",
   "metadata": {},
   "source": [
    "First, spatial relations are analyzed to determine the functional relation between counting points and bridges, indicating which counted traffic has led over which bridges. \n",
    "\n",
    "![Spatial Relations](./img/spatial_relation.png)\n",
    "\n",
    "For associating bridges and counting points, existing approaches are used. Existing approaches allow for the association of structural condition assessment data and traffic counting data associated with each other based on the asset to which they belong. It is assumed that the results of the evaluation of spatial relations are provided as a JSON file, as shown below. Based on the associated datasets in the JSON, the analysis of temporal relations is performed."
   ]
  },
  {
   "cell_type": "code",
   "execution_count": 3,
   "id": "488dedba",
   "metadata": {},
   "outputs": [
    {
     "name": "stdout",
     "output_type": "stream",
     "text": [
      "[\n",
      "    {\n",
      "        \"Asset1\": {\n",
      "            \"Type\": \"Structure\",\n",
      "            \"ID\": \"5340700 1 \",\n",
      "            \"localisation\": null,\n",
      "            \"Inspections\": [\n",
      "                {\n",
      "                    \"Year\": \"2020-04-14 00:00:00\",\n",
      "                    \"ConditionGrade\": 2.4\n",
      "                },\n",
      "                {\n",
      "                    \"Year\": \"2009-09-25 00:00:00\",\n",
      "                    \"ConditionGrade\": 2.4\n",
      "                },\n",
      "                {\n",
      "                    \"Year\": \"2014-07-14 00:00:00\",\n",
      "                    \"ConditionGrade\": 2.4\n",
      "                },\n",
      "                {\n",
      "                    \"Year\": \"2002-12-19 00:00:00\",\n",
      "                    \"ConditionGrade\": 2.3\n",
      "                },\n",
      "                {\n",
      "                    \"Year\": \"2012-06-07 00:00:00\",\n",
      "                    \"ConditionGrade\": 2.4\n",
      "                },\n",
      "                {\n",
      "                    \"Year\": \"1999-08-27 00:00:00\",\n",
      "                    \"ConditionGrade\": 2.3\n",
      "                },\n",
      "                {\n",
      "                    \"Year\": \"1994-11-09 00:00:00\",\n",
      "                    \"ConditionGrade\": 0.0\n",
      "                },\n",
      "                {\n",
      "                    \"Year\": \"2006-01-18 00:00:00\",\n",
      "                    \"ConditionGrade\": 2.5\n",
      "                },\n",
      "                {\n",
      "                    \"Year\": \"2017-08-10 00:00:00\",\n",
      "                    \"ConditionGrade\": 2.4\n",
      "                },\n",
      "                {\n",
      "                    \"Year\": \"1996-09-26 00:00:00\",\n",
      "                    \"ConditionGrade\": 2.5\n",
      "                }\n",
      "            ]\n",
      "        },\n",
      "        \"Asset2\": {\n",
      "            \"Type\": \"CountingPoint\",\n",
      "            \"ID\": \"S8a2d544c771381270177295a0b846668\",\n",
      "            \"localisation\": null,\n",
      "            \"TrafficCountings\": [\n",
      "                {\n",
      "                    \"Year\": \"2010\",\n",
      "                    \"TrafficData\": \"6091\"\n",
      "                },\n",
      "                {\n",
      "                    \"Year\": \"2019\",\n",
      "                    \"TrafficData\": \"8431\"\n",
      "                },\n",
      "                {\n",
      "                    \"Year\": \"2013\",\n",
      "                    \"TrafficData\": \"6520\"\n",
      "                },\n",
      "                {\n",
      "                    \"Year\": \"2008\",\n",
      "                    \"TrafficData\": \"6264\"\n",
      "                },\n",
      "                {\n",
      "                    \"Year\": \"2012\",\n",
      "                    \"TrafficData\": \"6404\"\n",
      "                },\n",
      "                {\n",
      "                    \"Year\": \"2003\",\n",
      "                    \"TrafficData\": \"5721\"\n",
      "                },\n",
      "                {\n",
      "                    \"Year\": \"2004\",\n",
      "                    \"TrafficData\": \"5942\"\n",
      "                },\n",
      "                {\n",
      "                    \"Year\": \"2011\",\n",
      "                    \"TrafficData\": \"6474\"\n",
      "                },\n",
      "                {\n",
      "                    \"Year\": \"2018\",\n",
      "                    \"TrafficData\": \"8294\"\n",
      "                },\n",
      "                {\n",
      "                    \"Year\": \"2001\",\n",
      "                    \"TrafficData\": \"5667\"\n",
      "                },\n",
      "                {\n",
      "                    \"Year\": \"2000\",\n",
      "                    \"TrafficData\": \"5320\"\n",
      "                },\n",
      "                {\n",
      "                    \"Year\": \"2007\",\n",
      "                    \"TrafficData\": \"6527\"\n",
      "                },\n",
      "                {\n",
      "                    \"Year\": \"2005\",\n",
      "                    \"TrafficData\": \"5513\"\n",
      "                },\n",
      "                {\n",
      "                    \"Year\": \"2016\",\n",
      "                    \"TrafficData\": \"7541\"\n",
      "                },\n",
      "                {\n",
      "                    \"Year\": \"2002\",\n",
      "                    \"TrafficData\": \"5738\"\n",
      "                },\n",
      "                {\n",
      "                    \"Year\": \"2015\",\n",
      "                    \"TrafficData\": \"7134\"\n",
      "                },\n",
      "                {\n",
      "                    \"Year\": \"2009\",\n",
      "                    \"TrafficData\": \"5647\"\n",
      "                },\n",
      "                {\n",
      "                    \"Year\": \"2017\",\n",
      "                    \"TrafficData\": \"8095\"\n",
      "                },\n",
      "                {\n",
      "                    \"Year\": \"2006\",\n",
      "                    \"TrafficData\": \"5805\"\n",
      "                },\n",
      "                {\n",
      "                    \"Year\": \"2014\",\n",
      "                    \"TrafficData\": \"6827\"\n",
      "                }\n",
      "            ]\n",
      "        },\n",
      "        \"Rel_ID\": 1\n",
      "    },\n",
      "    {\n",
      "        \"Asset1\": {\n",
      "            \"Type\": \"Structure\",\n",
      "            \"ID\": \"5340700 2 \",\n",
      "            \"localisation\": null,\n",
      "            \"Inspections\": [\n",
      "                {\n",
      "                    \"Year\": \"2017-08-10 00:00:00\",\n",
      "                    \"ConditionGrade\": 2.4\n",
      "                },\n",
      "                {\n",
      "                    \"Year\": \"2020-04-14 00:00:00\",\n",
      "                    \"ConditionGrade\": 2.4\n",
      "                },\n",
      "                {\n",
      "                    \"Year\": \"1994-11-09 00:00:00\",\n",
      "                    \"ConditionGrade\": 0.0\n",
      "                },\n",
      "                {\n",
      "                    \"Year\": \"1996-09-26 00:00:00\",\n",
      "                    \"ConditionGrade\": 2.5\n",
      "                },\n",
      "                {\n",
      "                    \"Year\": \"2006-01-18 00:00:00\",\n",
      "                    \"ConditionGrade\": 2.5\n",
      "                },\n",
      "                {\n",
      "                    \"Year\": \"2009-09-25 00:00:00\",\n",
      "                    \"ConditionGrade\": 2.5\n",
      "                },\n",
      "                {\n",
      "                    \"Year\": \"2014-07-14 00:00:00\",\n",
      "                    \"ConditionGrade\": 2.5\n",
      "                },\n",
      "                {\n",
      "                    \"Year\": \"2002-12-19 00:00:00\",\n",
      "                    \"ConditionGrade\": 2.3\n",
      "                },\n",
      "                {\n",
      "                    \"Year\": \"2012-06-07 00:00:00\",\n",
      "                    \"ConditionGrade\": 2.5\n",
      "                },\n",
      "                {\n",
      "                    \"Year\": \"1999-08-27 00:00:00\",\n",
      "                    \"ConditionGrade\": 2.3\n",
      "                }\n",
      "            ]\n",
      "        },\n",
      "        \"Asset2\": {\n",
      "            \"Type\": \"CountingPoint\",\n",
      "            \"ID\": \"S8a2d544c771381270177295a0b846668\",\n",
      "            \"localisation\": null,\n",
      "            \"TrafficCountings\": [\n",
      "                {\n",
      "                    \"Year\": \"2010\",\n",
      "                    \"TrafficData\": \"6091\"\n",
      "                },\n",
      "                {\n",
      "                    \"Year\": \"2019\",\n",
      "                    \"TrafficData\": \"8431\"\n",
      "                },\n",
      "                {\n",
      "                    \"Year\": \"2013\",\n",
      "                    \"TrafficData\": \"6520\"\n",
      "                },\n",
      "                {\n",
      "                    \"Year\": \"2008\",\n",
      "                    \"TrafficData\": \"6264\"\n",
      "                },\n",
      "                {\n",
      "                    \"Year\": \"2012\",\n",
      "                    \"TrafficData\": \"6404\"\n",
      "                },\n",
      "                {\n",
      "                    \"Year\": \"2003\",\n",
      "                    \"TrafficData\": \"5721\"\n",
      "                },\n",
      "                {\n",
      "                    \"Year\": \"2004\",\n",
      "                    \"TrafficData\": \"5942\"\n",
      "                },\n",
      "                {\n",
      "                    \"Year\": \"2011\",\n",
      "                    \"TrafficData\": \"6474\"\n",
      "                },\n",
      "                {\n",
      "                    \"Year\": \"2018\",\n",
      "                    \"TrafficData\": \"8294\"\n",
      "                },\n",
      "                {\n",
      "                    \"Year\": \"2001\",\n",
      "                    \"TrafficData\": \"5667\"\n",
      "                },\n",
      "                {\n",
      "                    \"Year\": \"2000\",\n",
      "                    \"TrafficData\": \"5320\"\n",
      "                },\n",
      "                {\n",
      "                    \"Year\": \"2007\",\n",
      "                    \"TrafficData\": \"6527\"\n",
      "                },\n",
      "                {\n",
      "                    \"Year\": \"2005\",\n",
      "                    \"TrafficData\": \"5513\"\n",
      "                },\n",
      "                {\n",
      "                    \"Year\": \"2016\",\n",
      "                    \"TrafficData\": \"7541\"\n",
      "                },\n",
      "                {\n",
      "                    \"Year\": \"2002\",\n",
      "                    \"TrafficData\": \"5738\"\n",
      "                },\n",
      "                {\n",
      "                    \"Year\": \"2015\",\n",
      "                    \"TrafficData\": \"7134\"\n",
      "                },\n",
      "                {\n",
      "                    \"Year\": \"2009\",\n",
      "                    \"TrafficData\": \"5647\"\n",
      "                },\n",
      "                {\n",
      "                    \"Year\": \"2017\",\n",
      "                    \"TrafficData\": \"8095\"\n",
      "                },\n",
      "                {\n",
      "                    \"Year\": \"2006\",\n",
      "                    \"TrafficData\": \"5805\"\n",
      "                },\n",
      "                {\n",
      "                    \"Year\": \"2014\",\n",
      "                    \"TrafficData\": \"6827\"\n",
      "                }\n",
      "            ]\n",
      "        },\n",
      "        \"Rel_ID\": 2\n",
      "    },\n",
      "    {\n",
      "        \"Asset1\": {\n",
      "            \"Type\": \"Structure\",\n",
      "            \"ID\": \"5340702 1 \",\n",
      "            \"localisation\": null,\n",
      "            \"Inspections\": [\n",
      "                {\n",
      "                    \"Year\": \"2020-04-14 00:00:00\",\n",
      "                    \"ConditionGrade\": 2.4\n",
      "                },\n",
      "                {\n",
      "                    \"Year\": \"2014-07-14 00:00:00\",\n",
      "                    \"ConditionGrade\": 2.4\n",
      "                },\n",
      "                {\n",
      "                    \"Year\": \"2011-09-29 00:00:00\",\n",
      "                    \"ConditionGrade\": 2.4\n",
      "                },\n",
      "                {\n",
      "                    \"Year\": \"2001-01-26 00:00:00\",\n",
      "                    \"ConditionGrade\": 1.0\n",
      "                },\n",
      "                {\n",
      "                    \"Year\": \"2005-04-18 00:00:00\",\n",
      "                    \"ConditionGrade\": 2.0\n",
      "                },\n",
      "                {\n",
      "                    \"Year\": \"2009-01-22 00:00:00\",\n",
      "                    \"ConditionGrade\": 2.3\n",
      "                },\n",
      "                {\n",
      "                    \"Year\": \"1998-05-11 00:00:00\",\n",
      "                    \"ConditionGrade\": 2.4\n",
      "                },\n",
      "                {\n",
      "                    \"Year\": \"1995-02-22 00:00:00\",\n",
      "                    \"ConditionGrade\": 0.0\n",
      "                },\n",
      "                {\n",
      "                    \"Year\": \"2017-08-08 00:00:00\",\n",
      "                    \"ConditionGrade\": 2.5\n",
      "                },\n",
      "                {\n",
      "                    \"Year\": \"1996-10-02 00:00:00\",\n",
      "                    \"ConditionGrade\": 2.4\n",
      "                }\n",
      "            ]\n",
      "        },\n",
      "        \"Asset2\": {\n",
      "            \"Type\": \"CountingPoint\",\n",
      "            \"ID\": \"S8a2d544c77138127017729595e82665f\",\n",
      "            \"localisation\": null,\n",
      "            \"TrafficCountings\": [\n",
      "                {\n",
      "                    \"Year\": \"2015\",\n",
      "                    \"TrafficData\": \"6508\"\n",
      "                },\n",
      "                {\n",
      "                    \"Year\": \"2000\",\n",
      "                    \"TrafficData\": \"4600\"\n",
      "                },\n",
      "                {\n",
      "                    \"Year\": \"2005\",\n",
      "                    \"TrafficData\": \"4766\"\n",
      "                },\n",
      "                {\n",
      "                    \"Year\": \"2010\",\n",
      "                    \"TrafficData\": \"5739\"\n",
      "                }\n",
      "            ]\n",
      "        },\n",
      "        \"Rel_ID\": 5\n",
      "    }\n",
      "]\n"
     ]
    }
   ],
   "source": [
    "spatially_related_data= \"./JSON/Assets_Traffic_related.json\"\n",
    "#Load the JSON\n",
    "with open(spatially_related_data, \"r\",encoding=\"utf-8-sig\") as f:\n",
    "    data = json.load(f)\n",
    "\n",
    "#Display the JSON\n",
    "print(json.dumps(data, indent=4))"
   ]
  },
  {
   "cell_type": "markdown",
   "id": "105ede57",
   "metadata": {},
   "source": [
    "## Temporal Relations"
   ]
  },
  {
   "cell_type": "markdown",
   "id": "88b666b8",
   "metadata": {},
   "source": [
    "### 1. Creation of the Temporal Relations Graph"
   ]
  },
  {
   "cell_type": "markdown",
   "id": "3f5d7ba5",
   "metadata": {},
   "source": [
    "#### 1.1 Creating the Time_Reference Elements as Connection Node for Data Sets in Spatial Relation"
   ]
  },
  {
   "cell_type": "code",
   "execution_count": 4,
   "id": "16ed73fe",
   "metadata": {},
   "outputs": [
    {
     "name": "stdout",
     "output_type": "stream",
     "text": [
      "Query sent to the graph database to generate Time_ReferenceElement:\n",
      "\n",
      "        UNWIND $data AS item    \n",
      "        MERGE (t1:Time_ReferenceElement{Time_ID:item.Rel_ID})\n",
      "        RETURN t1\n",
      "        \n",
      "Visualization of the resulting graph:\n"
     ]
    },
    {
     "data": {
      "application/vnd.jupyter.widget-view+json": {
       "model_id": "6b2baac2a8724a49b63fee51b0537e05",
       "version_major": 2,
       "version_minor": 0
      },
      "text/plain": [
       "GraphWidget(layout=Layout(height='500px', width='100%'))"
      ]
     },
     "metadata": {},
     "output_type": "display_data"
    }
   ],
   "source": [
    "# driver \n",
    "\n",
    "driver = GraphDatabase.driver(uri = neo4j_config.uri, auth = (neo4j_config.user, neo4j_config.password))\n",
    "g = Neo4jGraphWidget(driver=driver,layout=\"interactive_organic\")\n",
    "\n",
    "# creating reference element:\n",
    "\n",
    "query = f\"\"\"\n",
    "        UNWIND $data AS item    \n",
    "        MERGE (t1:Time_ReferenceElement{{Time_ID:item.Rel_ID}})\n",
    "        RETURN t1\n",
    "        \"\"\"\n",
    "\n",
    "DB_connection.send_query(query=query, data={\"data\": data})\n",
    "print(\"Query sent to the graph database to generate Time_ReferenceElement:\")\n",
    "print(query)\n",
    "\n",
    "#display the created nodes\n",
    "query = f\"MATCH (t1:Time_ReferenceElement) RETURN t1\"\n",
    "print(\"Visualization of the resulting graph:\")\n",
    "\n",
    "g.show_cypher(cypher=query)"
   ]
  },
  {
   "cell_type": "markdown",
   "id": "dad8523e",
   "metadata": {},
   "source": [
    "#### 1.2 Creating the nodes representing the datasets with an additional attribut with information in their corresponding Time_Reference_Element and relation to it"
   ]
  },
  {
   "cell_type": "code",
   "execution_count": 11,
   "id": "2a318921",
   "metadata": {},
   "outputs": [
    {
     "name": "stdout",
     "output_type": "stream",
     "text": [
      "Query sent to the graph database to generate ConditionGrade:\n",
      "\n",
      "        UNWIND $data AS item\n",
      "        UNWIND item.Asset1.Inspections as inspection\n",
      "        CREATE (cg1:ConditionGrade{ConditionGrade:inspection.ConditionGrade, Time_Ref:item.Rel_ID, Date:inspection.Year})       \n",
      "        \n",
      "Query sent to the graph database to generate TrafficCounting:\n",
      "\n",
      "        UNWIND $data AS item\n",
      "        UNWIND item.Asset2.TrafficCountings as counting\n",
      "        CREATE (c:TrafficCounting{TrafficData:counting.TrafficData, Time_Ref:item.Rel_ID, Date:counting.Year})                   \n",
      "        \n",
      "Visualization of the resulting graph:\n"
     ]
    },
    {
     "data": {
      "application/vnd.jupyter.widget-view+json": {
       "model_id": "4a04e26d119e4818b31054fdc19fcfa6",
       "version_major": 2,
       "version_minor": 0
      },
      "text/plain": [
       "GraphWidget(layout=Layout(height='800px', width='100%'))"
      ]
     },
     "metadata": {},
     "output_type": "display_data"
    }
   ],
   "source": [
    "# creating data nodes Asset1\n",
    "query = f\"\"\"\n",
    "        UNWIND $data AS item\n",
    "        UNWIND item.Asset1.Inspections as inspection\n",
    "        CREATE (cg1:ConditionGrade{{ConditionGrade:inspection.ConditionGrade, Time_Ref:item.Rel_ID, Date:inspection.Year}})       \n",
    "        \"\"\"\n",
    "    \n",
    "DB_connection.send_query(query=query, data={\"data\": data})\n",
    "print(\"Query sent to the graph database to generate ConditionGrade:\")\n",
    "print(query)\n",
    "\n",
    "# creating data nodes Asset2\n",
    "query = f\"\"\"\n",
    "        UNWIND $data AS item\n",
    "        UNWIND item.Asset2.TrafficCountings as counting\n",
    "        CREATE (c:TrafficCounting{{TrafficData:counting.TrafficData, Time_Ref:item.Rel_ID, Date:counting.Year}})                   \n",
    "        \"\"\"\n",
    "DB_connection.send_query(query=query, data={\"data\": data})\n",
    "print(\"Query sent to the graph database to generate TrafficCounting:\")\n",
    "print(query)\n",
    "\n",
    "#display the created nodes\n",
    "query = f\"MATCH (t1:Time_ReferenceElement) MATCH(cg:ConditionGrade) MATCH(c:TrafficCounting) RETURN t1,cg,c\"\n",
    "print(\"Visualization of the resulting graph:\")\n",
    "g.show_cypher(cypher=query)"
   ]
  },
  {
   "cell_type": "markdown",
   "id": "cd3a0b6e",
   "metadata": {},
   "source": [
    "#### 1.3 Deleting duplicates arisen from the bidirectionality of the graphs during querying spatial relations"
   ]
  },
  {
   "cell_type": "code",
   "execution_count": 12,
   "id": "ed72bff7",
   "metadata": {},
   "outputs": [
    {
     "name": "stdout",
     "output_type": "stream",
     "text": [
      "Query sent to the graph database to delete duplicates in ConditionGrade:\n",
      "\n",
      "        MATCH (CG:ConditionGrade)\n",
      "        WITH CG.ConditionGrade AS cg, CG.Time_Ref AS tr, CG.Date as d, collect(CG) AS nodes\n",
      "        WHERE size(nodes) > 1\n",
      "        CALL (nodes) {\n",
      "            WITH nodes\n",
      "            UNWIND tail(nodes) AS nodeToDelete\n",
      "            DETACH DELETE nodeToDelete\n",
      "        }\n",
      "        \n",
      "Query sent to the graph database to delete duplicates in TrafficCounting:\n",
      "\n",
      "        MATCH (TC:TrafficCounting)\n",
      "        WITH TC.TrafficData AS cd, TC.Time_Ref AS tr, TC.Date as d, collect(TC) AS nodes\n",
      "        WHERE size(nodes) > 1\n",
      "        CALL (nodes) {\n",
      "            WITH nodes\n",
      "            UNWIND tail(nodes) AS nodeToDelete\n",
      "            DETACH DELETE nodeToDelete\n",
      "        }\n",
      "        \n"
     ]
    }
   ],
   "source": [
    "# deleting duplicates in data nodes Asset1\n",
    "query = f\"\"\"\n",
    "        MATCH (CG:ConditionGrade)\n",
    "        WITH CG.ConditionGrade AS cg, CG.Time_Ref AS tr, CG.Date as d, collect(CG) AS nodes\n",
    "        WHERE size(nodes) > 1\n",
    "        CALL (nodes) {{\n",
    "            WITH nodes\n",
    "            UNWIND tail(nodes) AS nodeToDelete\n",
    "            DETACH DELETE nodeToDelete\n",
    "        }}\n",
    "        \"\"\"\n",
    "DB_connection.send_query(query=query)\n",
    "print(\"Query sent to the graph database to delete duplicates in ConditionGrade:\")\n",
    "print(query)\n",
    "    \n",
    "# deleting duplicates in data nodes Asset2\n",
    "query = f\"\"\"\n",
    "        MATCH (TC:TrafficCounting)\n",
    "        WITH TC.TrafficData AS cd, TC.Time_Ref AS tr, TC.Date as d, collect(TC) AS nodes\n",
    "        WHERE size(nodes) > 1\n",
    "        CALL (nodes) {{\n",
    "            WITH nodes\n",
    "            UNWIND tail(nodes) AS nodeToDelete\n",
    "            DETACH DELETE nodeToDelete\n",
    "        }}\n",
    "        \"\"\"\n",
    "DB_connection.send_query(query=query)\n",
    "print(\"Query sent to the graph database to delete duplicates in TrafficCounting:\")\n",
    "print(query)"
   ]
  },
  {
   "cell_type": "markdown",
   "id": "e5f321eb",
   "metadata": {},
   "source": [
    "#### 1.4 Creation of time reference relations based on the information stored in the time references of the data sets"
   ]
  },
  {
   "cell_type": "code",
   "execution_count": 13,
   "id": "35229948",
   "metadata": {},
   "outputs": [
    {
     "name": "stdout",
     "output_type": "stream",
     "text": [
      "Queries sent to the graph database to create time reference relations:\n",
      "\n",
      "            MATCH (t:Time_ReferenceElement)\n",
      "            MATCH (cg:ConditionGrade)\n",
      "            WHERE t.Time_ID = cg.Time_Ref\n",
      "            MERGE (t)<-[:start_at{time:cg.Date}]-(cg)\n",
      "        \n",
      "\n",
      "            MATCH (t:Time_ReferenceElement)\n",
      "            MATCH (ct:TrafficCounting)\n",
      "            WHERE t.Time_ID = ct.Time_Ref\n",
      "            MERGE (t)<-[:start_at{time:ct.Date}]-(ct)\n",
      "        \n",
      "Visualization of the resulting graph:\n"
     ]
    },
    {
     "data": {
      "application/vnd.jupyter.widget-view+json": {
       "model_id": "6ef62b4e2ff146b28188cf0c5fd7f1ef",
       "version_major": 2,
       "version_minor": 0
      },
      "text/plain": [
       "GraphWidget(layout=Layout(height='800px', width='100%'))"
      ]
     },
     "metadata": {},
     "output_type": "display_data"
    }
   ],
   "source": [
    "print(\"Queries sent to the graph database to create time reference relations:\")\n",
    "# creating relations data nodes Asset1 and reference element\n",
    "query = f\"\"\"\n",
    "            MATCH (t:Time_ReferenceElement)\n",
    "            MATCH (cg:ConditionGrade)\n",
    "            WHERE t.Time_ID = cg.Time_Ref\n",
    "            MERGE (t)<-[:start_at{{time:cg.Date}}]-(cg)\n",
    "        \"\"\"\n",
    "DB_connection.send_query(query=query)\n",
    "print(query)\n",
    "    \n",
    "# creating relations data nodes Asset2 and reference element\n",
    "query = f\"\"\"\n",
    "            MATCH (t:Time_ReferenceElement)\n",
    "            MATCH (ct:TrafficCounting)\n",
    "            WHERE t.Time_ID = ct.Time_Ref\n",
    "            MERGE (t)<-[:start_at{{time:ct.Date}}]-(ct)\n",
    "        \"\"\"\n",
    "DB_connection.send_query(query=query)\n",
    "print(query)\n",
    "\n",
    "#display the created nodes\n",
    "query = f\"MATCH p=(cg:ConditionGrade)--(t1:Time_ReferenceElement)--(c:TrafficCounting) RETURN p\"\n",
    "print(\"Visualization of the resulting graph:\")\n",
    "g.show_cypher(cypher=query)"
   ]
  },
  {
   "cell_type": "markdown",
   "id": "23693f08",
   "metadata": {},
   "source": [
    "### 2. Evaluation of the temporal relations"
   ]
  },
  {
   "cell_type": "markdown",
   "id": "25cde6c8",
   "metadata": {},
   "source": [
    "#### 2.1 Evaluation of the intially given event time references"
   ]
  },
  {
   "cell_type": "markdown",
   "id": "32ac586e",
   "metadata": {},
   "source": [
    "If the data records are considered an event they are referenced “at a point” on the timeline. All traffic count data records can be associated with the bridge condition records directly \"following\" them: \n",
    "\n",
    "![Temp_Relations_Points](./img/point_rel.png)"
   ]
  },
  {
   "cell_type": "code",
   "execution_count": 14,
   "id": "006ea1a5",
   "metadata": {},
   "outputs": [
    {
     "name": "stdout",
     "output_type": "stream",
     "text": [
      "Query sent to the graph database to perform the pattern matching:\n",
      "\n",
      "        MATCH (TC:TrafficCounting)-[TC_t]-(r)-[CG_t]-(CG:ConditionGrade)\n",
      "        WHERE TC_t.time < CG_t.time\n",
      "        WITH CG,TC, TC_t,r\n",
      "        ORDER BY TC_t.time DESC\n",
      "        WITH CG, collect(TC)[0] as traffic,r\n",
      "        RETURN DISTINCT CG.ConditionGrade as ConditionGrade,toInteger(traffic.TrafficData) as TrafficData,r.Time_ID\n",
      "        \n",
      " --- \n",
      "Associated data returned based on the 20 found matches:\n",
      " \n",
      "<Record ConditionGrade=2.4 TrafficData=8431 r.Time_ID=2>\n",
      "<Record ConditionGrade=2.4 TrafficData=8431 r.Time_ID=1>\n",
      "<Record ConditionGrade=2.4 TrafficData=8095 r.Time_ID=2>\n",
      "<Record ConditionGrade=2.4 TrafficData=8095 r.Time_ID=1>\n",
      "<Record ConditionGrade=2.4 TrafficData=6508 r.Time_ID=5>\n",
      "<Record ConditionGrade=2.5 TrafficData=6508 r.Time_ID=5>\n",
      "<Record ConditionGrade=2.5 TrafficData=6827 r.Time_ID=2>\n",
      "<Record ConditionGrade=2.4 TrafficData=6827 r.Time_ID=1>\n",
      "<Record ConditionGrade=2.5 TrafficData=6404 r.Time_ID=2>\n",
      "<Record ConditionGrade=2.4 TrafficData=6404 r.Time_ID=1>\n",
      "<Record ConditionGrade=2.4 TrafficData=5739 r.Time_ID=5>\n",
      "<Record ConditionGrade=2.5 TrafficData=5647 r.Time_ID=2>\n",
      "<Record ConditionGrade=2.4 TrafficData=5647 r.Time_ID=1>\n",
      "<Record ConditionGrade=2.5 TrafficData=5805 r.Time_ID=2>\n",
      "<Record ConditionGrade=2.5 TrafficData=5805 r.Time_ID=1>\n",
      "<Record ConditionGrade=2.0 TrafficData=4766 r.Time_ID=5>\n",
      "<Record ConditionGrade=2.3 TrafficData=4766 r.Time_ID=5>\n",
      "<Record ConditionGrade=2.3 TrafficData=5738 r.Time_ID=2>\n",
      "<Record ConditionGrade=2.3 TrafficData=5738 r.Time_ID=1>\n",
      "<Record ConditionGrade=1.0 TrafficData=4600 r.Time_ID=5>\n",
      " --- \n",
      "Visualization of the data in a Diagramm:\n"
     ]
    },
    {
     "data": {
      "image/png": "[encoded data removed]",
      "text/plain": [
       "<Figure size 600x400 with 1 Axes>"
      ]
     },
     "metadata": {},
     "output_type": "display_data"
    }
   ],
   "source": [
    "import matplotlib.pyplot as plt\n",
    "\n",
    "#Query the data\n",
    "query = f\"\"\"\n",
    "        MATCH (TC:TrafficCounting)-[TC_t]-(r)-[CG_t]-(CG:ConditionGrade)\n",
    "        WHERE TC_t.time < CG_t.time\n",
    "        WITH CG,TC, TC_t,r\n",
    "        ORDER BY TC_t.time DESC\n",
    "        WITH CG, collect(TC)[0] as traffic,r\n",
    "        RETURN DISTINCT CG.ConditionGrade as ConditionGrade,toInteger(traffic.TrafficData) as TrafficData,r.Time_ID\n",
    "        \"\"\"\n",
    "result= DB_connection.send_query(query=query)\n",
    "print(\"Query sent to the graph database to perform the pattern matching:\")\n",
    "print(query)\n",
    "print(\" --- \")\n",
    "print(f\"Associated data returned based on the {len(result)} found matches:\")\n",
    "print(\" \")\n",
    "\n",
    "# Extract data \n",
    "condition_grades = []\n",
    "traffic_data = []\n",
    "\n",
    "for element in result:\n",
    "    print(element)\n",
    "    condition_grades.append(element[\"ConditionGrade\"])\n",
    "    traffic_data.append(element[\"TrafficData\"])\n",
    "    \n",
    "print(\" --- \")\n",
    "print(\"Visualization of the data in a Diagramm:\")\n",
    "\n",
    "#display data\n",
    "# Pair and sort by both X (traffic) and Y (condition)\n",
    "sorted_data = sorted(zip(traffic_data, condition_grades))  # Sort by X by default\n",
    "sorted_traffic, sorted_conditions = zip(*sorted_data)\n",
    "\n",
    "\n",
    "\n",
    "plt.figure(figsize=(6, 4))\n",
    "plt.scatter(sorted_traffic, sorted_conditions, color=\"grey\", s=20)\n",
    "plt.xlabel(\"Traffic Data\")\n",
    "plt.ylabel(\"Condition Grade\")\n",
    "plt.title(\"Traffic Data by Condition Grade\")\n",
    "plt.grid(True, linestyle='--', alpha=0.6)\n",
    "plt.tight_layout()\n",
    "plt.show()\n"
   ]
  },
  {
   "cell_type": "markdown",
   "id": "e91b3fb1",
   "metadata": {},
   "source": [
    "#### 2.2 Evaluation of inferred interval time references"
   ]
  },
  {
   "cell_type": "markdown",
   "id": "76974163",
   "metadata": {},
   "source": [
    "If the data records are considered an interval all traffic count data records can be associated with the bridge condition records recorded within the last inspection interval. \n",
    "\n",
    "![Temp_Relations_Points](./img/interval_rel.png)"
   ]
  },
  {
   "cell_type": "markdown",
   "id": "6679278e",
   "metadata": {},
   "source": [
    "##### 2.2.1 Graph Transformation\n",
    "The contained event time references are interpreted further to create event time references"
   ]
  },
  {
   "cell_type": "code",
   "execution_count": 15,
   "id": "f229ee46",
   "metadata": {},
   "outputs": [
    {
     "name": "stdout",
     "output_type": "stream",
     "text": [
      "Query sent to the graph database to perform the graph transformation:\n",
      "\n",
      "        MATCH (t1:ConditionGrade)--(t_ref)\n",
      "        WITH t1,t_ref\n",
      "        ORDER BY t1.Date\n",
      "        WITH collect(t1) as times,t_ref\n",
      "        WITH times, range(0,size(times)-1) as idxs,t_ref\n",
      "\n",
      "        UNWIND idxs AS i\n",
      "        WITH\n",
      "          times[i] AS current,t_ref,\n",
      "          CASE WHEN i > 0 THEN times[i-1] ELSE NULL END AS predecessor,\n",
      "          CASE WHEN i < size(times)-1 THEN times[i+1] ELSE NULL END AS successor\n",
      "        WHERE predecessor IS NOT NULL\n",
      "        MERGE (current)-[:start_at{time:predecessor.Date}]->(t_ref) \n",
      "        MERGE (current)-[:end_at{time:current.Date}]->(t_ref)\n",
      "        \n",
      "        WITH current,t_ref\n",
      "        MATCH (current)-[d:start_at{time:current.Date}]->(t_ref)\n",
      "        Delete d\n",
      " \n",
      "Visualization of the resulting graph:\n"
     ]
    },
    {
     "data": {
      "application/vnd.jupyter.widget-view+json": {
       "model_id": "c569aa90553c4b44bc1326baf774037a",
       "version_major": 2,
       "version_minor": 0
      },
      "text/plain": [
       "GraphWidget(layout=Layout(height='800px', width='100%'))"
      ]
     },
     "metadata": {},
     "output_type": "display_data"
    }
   ],
   "source": [
    "query= f\"\"\"\n",
    "        MATCH (t1:ConditionGrade)--(t_ref)\n",
    "        WITH t1,t_ref\n",
    "        ORDER BY t1.Date\n",
    "        WITH collect(t1) as times,t_ref\n",
    "        WITH times, range(0,size(times)-1) as idxs,t_ref\n",
    "\n",
    "        UNWIND idxs AS i\n",
    "        WITH\n",
    "          times[i] AS current,t_ref,\n",
    "          CASE WHEN i > 0 THEN times[i-1] ELSE NULL END AS predecessor,\n",
    "          CASE WHEN i < size(times)-1 THEN times[i+1] ELSE NULL END AS successor\n",
    "        WHERE predecessor IS NOT NULL\n",
    "        MERGE (current)-[:start_at{{time:predecessor.Date}}]->(t_ref) \n",
    "        MERGE (current)-[:end_at{{time:current.Date}}]->(t_ref)\n",
    "        \n",
    "        WITH current,t_ref\n",
    "        MATCH (current)-[d:start_at{{time:current.Date}}]->(t_ref)\n",
    "        Delete d\"\"\"\n",
    "\n",
    "DB_connection.send_query(query=query)\n",
    "print(\"Query sent to the graph database to perform the graph transformation:\")\n",
    "print(query)\n",
    "print(\" \")\n",
    "\n",
    "#display the created nodes\n",
    "query = f\"MATCH p=(cg:ConditionGrade)--(t1:Time_ReferenceElement)--(c:TrafficCounting) RETURN p\"\n",
    "print(\"Visualization of the resulting graph:\")\n",
    "g.show_cypher(cypher=query)"
   ]
  },
  {
   "cell_type": "code",
   "execution_count": 139,
   "id": "6c0f2880",
   "metadata": {},
   "outputs": [
    {
     "name": "stdout",
     "output_type": "stream",
     "text": [
      "Query sent to the graph database to perform the pattern matching:\n",
      "\n",
      "        MATCH (TC:TrafficCounting)-[TC_t]-(r)-[CG_t_s:start_at]-(CG:ConditionGrade)\n",
      "        MATCH (r)-[CG_t_e:end_at]-(CG)\n",
      "        WHERE TC_t.time <= CG_t_e.time AND TC_t.time >= CG_t_s.time\n",
      "        RETURN DISTINCT CG.ConditionGrade as ConditionGrade,toInteger(TC.TrafficData) as TrafficData,r.Time_ID\n",
      "        \n",
      " --- \n",
      "Associated data returned based on the 44 found matches:\n",
      " \n",
      "<Record ConditionGrade=2.4 TrafficData=7541 r.Time_ID=2>\n",
      "<Record ConditionGrade=2.4 TrafficData=7134 r.Time_ID=2>\n",
      "<Record ConditionGrade=2.4 TrafficData=8095 r.Time_ID=2>\n",
      "<Record ConditionGrade=2.4 TrafficData=8431 r.Time_ID=2>\n",
      "<Record ConditionGrade=2.4 TrafficData=8294 r.Time_ID=2>\n",
      "<Record ConditionGrade=2.5 TrafficData=5721 r.Time_ID=2>\n",
      "<Record ConditionGrade=2.5 TrafficData=5942 r.Time_ID=2>\n",
      "<Record ConditionGrade=2.5 TrafficData=5513 r.Time_ID=2>\n",
      "<Record ConditionGrade=2.5 TrafficData=5805 r.Time_ID=2>\n",
      "<Record ConditionGrade=2.5 TrafficData=6264 r.Time_ID=2>\n",
      "<Record ConditionGrade=2.5 TrafficData=6527 r.Time_ID=2>\n",
      "<Record ConditionGrade=2.5 TrafficData=5647 r.Time_ID=2>\n",
      "<Record ConditionGrade=2.5 TrafficData=6520 r.Time_ID=2>\n",
      "<Record ConditionGrade=2.5 TrafficData=6827 r.Time_ID=2>\n",
      "<Record ConditionGrade=2.3 TrafficData=5667 r.Time_ID=2>\n",
      "<Record ConditionGrade=2.3 TrafficData=5320 r.Time_ID=2>\n",
      "<Record ConditionGrade=2.3 TrafficData=5738 r.Time_ID=2>\n",
      "<Record ConditionGrade=2.5 TrafficData=6091 r.Time_ID=2>\n",
      "<Record ConditionGrade=2.5 TrafficData=6404 r.Time_ID=2>\n",
      "<Record ConditionGrade=2.5 TrafficData=6474 r.Time_ID=2>\n",
      "<Record ConditionGrade=2.4 TrafficData=5739 r.Time_ID=5>\n",
      "<Record ConditionGrade=1.0 TrafficData=4600 r.Time_ID=5>\n",
      "<Record ConditionGrade=2.0 TrafficData=4766 r.Time_ID=5>\n",
      "<Record ConditionGrade=2.5 TrafficData=6508 r.Time_ID=5>\n",
      "<Record ConditionGrade=2.4 TrafficData=8431 r.Time_ID=1>\n",
      "<Record ConditionGrade=2.4 TrafficData=8294 r.Time_ID=1>\n",
      "<Record ConditionGrade=2.4 TrafficData=6264 r.Time_ID=1>\n",
      "<Record ConditionGrade=2.4 TrafficData=6527 r.Time_ID=1>\n",
      "<Record ConditionGrade=2.4 TrafficData=5647 r.Time_ID=1>\n",
      "<Record ConditionGrade=2.4 TrafficData=6520 r.Time_ID=1>\n",
      "<Record ConditionGrade=2.4 TrafficData=6827 r.Time_ID=1>\n",
      "<Record ConditionGrade=2.3 TrafficData=5667 r.Time_ID=1>\n",
      "<Record ConditionGrade=2.3 TrafficData=5320 r.Time_ID=1>\n",
      "<Record ConditionGrade=2.3 TrafficData=5738 r.Time_ID=1>\n",
      "<Record ConditionGrade=2.4 TrafficData=6091 r.Time_ID=1>\n",
      "<Record ConditionGrade=2.4 TrafficData=6404 r.Time_ID=1>\n",
      "<Record ConditionGrade=2.4 TrafficData=6474 r.Time_ID=1>\n",
      "<Record ConditionGrade=2.5 TrafficData=5721 r.Time_ID=1>\n",
      "<Record ConditionGrade=2.5 TrafficData=5942 r.Time_ID=1>\n",
      "<Record ConditionGrade=2.5 TrafficData=5513 r.Time_ID=1>\n",
      "<Record ConditionGrade=2.5 TrafficData=5805 r.Time_ID=1>\n",
      "<Record ConditionGrade=2.4 TrafficData=7541 r.Time_ID=1>\n",
      "<Record ConditionGrade=2.4 TrafficData=7134 r.Time_ID=1>\n",
      "<Record ConditionGrade=2.4 TrafficData=8095 r.Time_ID=1>\n",
      " --- \n",
      "Visualization of the data in a Diagramm:\n"
     ]
    },
    {
     "data": {
      "image/png": "[encoded data removed]",
      "text/plain": [
       "<Figure size 600x400 with 1 Axes>"
      ]
     },
     "metadata": {},
     "output_type": "display_data"
    }
   ],
   "source": [
    "#Query the data\n",
    "query = f\"\"\"\n",
    "        MATCH (TC:TrafficCounting)-[TC_t]-(r)-[CG_t_s:start_at]-(CG:ConditionGrade)\n",
    "        MATCH (r)-[CG_t_e:end_at]-(CG)\n",
    "        WHERE TC_t.time <= CG_t_e.time AND TC_t.time >= CG_t_s.time\n",
    "        RETURN DISTINCT CG.ConditionGrade as ConditionGrade,toInteger(TC.TrafficData) as TrafficData,r.Time_ID\n",
    "        \"\"\"\n",
    "result= DB_connection.send_query(query=query)\n",
    "print(\"Query sent to the graph database to perform the pattern matching:\")\n",
    "print(query)\n",
    "print(\" --- \")\n",
    "print(f\"Associated data returned based on the {len(result)} found matches:\")\n",
    "print(\" \")\n",
    "\n",
    "# Extract data \n",
    "condition_grades = []\n",
    "traffic_data = []\n",
    "\n",
    "for element in result:\n",
    "    print(element)\n",
    "    condition_grades.append(element[\"ConditionGrade\"])\n",
    "    traffic_data.append(element[\"TrafficData\"])\n",
    "    \n",
    "print(\" --- \")\n",
    "print(\"Visualization of the data in a Diagramm:\")\n",
    "\n",
    "#display data\n",
    "# Pair and sort by both X (traffic) and Y (condition)\n",
    "sorted_data = sorted(zip(traffic_data, condition_grades))  # Sort by X by default\n",
    "sorted_traffic, sorted_conditions = zip(*sorted_data)\n",
    "\n",
    "\n",
    "\n",
    "plt.figure(figsize=(6, 4))\n",
    "plt.scatter(sorted_traffic, sorted_conditions, color=\"grey\", s=20)\n",
    "plt.xlabel(\"Traffic Data\")\n",
    "plt.ylabel(\"Condition Grade\")\n",
    "plt.title(\"Traffic Data by Condition Grade\")\n",
    "plt.grid(True, linestyle='--', alpha=0.6)\n",
    "plt.tight_layout()\n",
    "plt.show()"
   ]
  }
 ],
 "metadata": {
  "kernelspec": {
   "display_name": "Python 3 (ipykernel)",
   "language": "python",
   "name": "python3"
  },
  "language_info": {
   "codemirror_mode": {
    "name": "ipython",
    "version": 3
   },
   "file_extension": ".py",
   "mimetype": "text/x-python",
   "name": "python",
   "nbconvert_exporter": "python",
   "pygments_lexer": "ipython3",
   "version": "3.9.15"
  }
 },
 "nbformat": 4,
 "nbformat_minor": 5
}
