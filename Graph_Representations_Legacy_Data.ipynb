{
 "cells": [
  {
   "cell_type": "markdown",
   "id": "764aacd5",
   "metadata": {},
   "source": [
    "# Graph Representations of the Legacy Data to be Associated"
   ]
  },
  {
   "cell_type": "code",
   "execution_count": 1,
   "id": "02b70fa0",
   "metadata": {},
   "outputs": [
    {
     "name": "stdout",
     "output_type": "stream",
     "text": [
      "All packages successfully installed, everything needed imported\n"
     ]
    }
   ],
   "source": [
    "%run Preparation.ipynb\n",
    "import neo4j_config\n",
    "#connection\n",
    "DB_connection = DBinteraction(uri=neo4j_config.uri, user=neo4j_config.user, password=neo4j_config.password)\n",
    "# driver \n",
    "driver = GraphDatabase.driver(uri = neo4j_config.uri, auth = (neo4j_config.user, neo4j_config.password))"
   ]
  },
  {
   "cell_type": "markdown",
   "id": "46ac70a7",
   "metadata": {},
   "source": [
    "## Bridge Data"
   ]
  },
  {
   "cell_type": "code",
   "execution_count": 2,
   "id": "09d3d8c6",
   "metadata": {},
   "outputs": [
    {
     "data": {
      "application/vnd.jupyter.widget-view+json": {
       "model_id": "ce726b825bf4452bad0c739b3ad5b05e",
       "version_major": 2,
       "version_minor": 0
      },
      "text/plain": [
       "GraphWidget(layout=Layout(height='800px', width='100%'))"
      ]
     },
     "metadata": {},
     "output_type": "display_data"
    }
   ],
   "source": [
    "bridge_data= \"./JSON/Bridges.json\"\n",
    "\n",
    "#Load the JSON\n",
    "with open(bridge_data, \"r\",encoding=\"utf-8-sig\") as f:\n",
    "    data = json.load(f)\n",
    "\n",
    "query = f\"\"\"UNWIND $data as item\n",
    "            MERGE (b:Structure{{Structure_ID:item.b.properties.Teilbauwerk_ID}})\n",
    "            MERGE (i:Inspection{{Inspection_ID:item.i.properties.Insepction_ID}})\n",
    "            MERGE (b)-[:inspected_at]->(i)\n",
    "        \"\"\"\n",
    "\n",
    "DB_connection.send_query(query=query,data= {\"data\": data})\n",
    "\n",
    "query=\"MATCH p=(n:Structure)--(i:Inspection) return p\"\n",
    "\n",
    "g = Neo4jGraphWidget(driver=driver,layout=\"interactive_organic\")\n",
    "g.show_cypher(cypher=query)"
   ]
  },
  {
   "cell_type": "markdown",
   "id": "854f5d98",
   "metadata": {},
   "source": [
    "## Road Data"
   ]
  },
  {
   "cell_type": "code",
   "execution_count": 3,
   "id": "c5b8dc7b",
   "metadata": {},
   "outputs": [
    {
     "data": {
      "application/vnd.jupyter.widget-view+json": {
       "model_id": "747423b7f922468db65f91dd2c5106ab",
       "version_major": 2,
       "version_minor": 0
      },
      "text/plain": [
       "GraphWidget(layout=Layout(height='760px', width='100%'))"
      ]
     },
     "metadata": {},
     "output_type": "display_data"
    }
   ],
   "source": [
    "road_data= \"./JSON/TrafficData.json\"\n",
    "\n",
    "#Load the JSON\n",
    "with open(road_data, \"r\",encoding=\"utf-8-sig\") as f:\n",
    "    data = json.load(f)\n",
    "\n",
    "query = f\"\"\"UNWIND $data as item\n",
    "            MERGE (CP:CountingPoint{{CountingPoint_ID:item.CP.properties.Otzst_ID}})\n",
    "            MERGE (TD:TrafficData{{TrafficData_ID:item.TD.properties.Otvstaerke_ID}})\n",
    "            MERGE (CP)<-[:assigned_to]-(TD)\n",
    "        \"\"\"\n",
    "\n",
    "DB_connection.send_query(query=query,data= {\"data\": data})\n",
    "\n",
    "query=\"MATCH p=(CP:CountingPoint)--(TD:TrafficData) return p\"\n",
    "g = Neo4jGraphWidget(driver=driver,layout=\"interactive_organic\")\n",
    "g.show_cypher(cypher=query)"
   ]
  },
  {
   "cell_type": "code",
   "execution_count": null,
   "id": "00d49100",
   "metadata": {},
   "outputs": [],
   "source": []
  }
 ],
 "metadata": {
  "kernelspec": {
   "display_name": "Python 3 (ipykernel)",
   "language": "python",
   "name": "python3"
  },
  "language_info": {
   "codemirror_mode": {
    "name": "ipython",
    "version": 3
   },
   "file_extension": ".py",
   "mimetype": "text/x-python",
   "name": "python",
   "nbconvert_exporter": "python",
   "pygments_lexer": "ipython3",
   "version": "3.9.15"
  }
 },
 "nbformat": 4,
 "nbformat_minor": 5
}
