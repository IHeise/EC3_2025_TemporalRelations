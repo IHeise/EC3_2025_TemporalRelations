{
 "cells": [
  {
   "cell_type": "markdown",
   "id": "c6436755",
   "metadata": {},
   "source": [
    "# Set up Database"
   ]
  },
  {
   "cell_type": "code",
   "execution_count": 1,
   "id": "be25c314",
   "metadata": {},
   "outputs": [
    {
     "name": "stdout",
     "output_type": "stream",
     "text": [
      "All packages successfully installed, everything needed imported\n"
     ]
    }
   ],
   "source": [
    "%run Preparation.ipynb"
   ]
  },
  {
   "cell_type": "markdown",
   "id": "361bab55",
   "metadata": {},
   "source": [
    "We use the neo4j database system and demonstrate the concept using an instance of the free cloud-based version of neo4j. \n",
    "The documentation for neo4j aura can be found here: https://neo4j.com/docs/aura/\n",
    "\n",
    "For demonstration, an instance of a database must be created and the connection details must be added in the following. \n",
    "\n",
    "1. Log in or create a new personal account on neo4j: https://login.neo4j.com/u/login/password?state=hKFo2SBmS21pNWFnMll0Z3djY2ZIc1VhNnpXLThuelZ1bU01TqFur3VuaXZlcnNhbC1sb2dpbqN0aWTZIHJkQS1GZF9mcGNxNkg3MHJyQ3dONGRwbDRzOXJPRDdTo2NpZNkgV1NMczYwNDdrT2pwVVNXODNnRFo0SnlZaElrNXpZVG8."
   ]
  },
  {
   "cell_type": "markdown",
   "id": "06eee2b9",
   "metadata": {},
   "source": [
    "2. Create a new database instance and start it if its not already running."
   ]
  },
  {
   "cell_type": "markdown",
   "id": "ade60cf9",
   "metadata": {},
   "source": [
    "3. Find your connection details and add them in the following field to allow the connection to the database"
   ]
  },
  {
   "cell_type": "code",
   "execution_count": 3,
   "id": "30853390",
   "metadata": {},
   "outputs": [],
   "source": [
    "uri = \"neo4j+ssc://xxx.databases.neo4j.io\" #replace xxx with the number of your database instance\n",
    "user = \"neo4j\"\n",
    "password = \"...\" # enter your DB password here\n",
    "\n",
    "# writing credentials in the neo4j_config.py file\n",
    "with open(\"neo4j_config.py\", \"w\") as f:\n",
    "        f.write(f'uri = \"{uri}\"\\n')\n",
    "        f.write(f'user = \"{user}\"\\n')\n",
    "        f.write(f'password = \"{password}\"\\n')\n",
    "\n",
    "import neo4j_config\n",
    "DB_connection = DBinteraction(uri=neo4j_config.uri, user=neo4j_config.user, password=neo4j_config.password)"
   ]
  },
  {
   "cell_type": "markdown",
   "id": "e38b6006",
   "metadata": {},
   "source": [
    "4. Check, if everything works: The following should create and show a graph consisting of two nodes connected by a edge."
   ]
  },
  {
   "cell_type": "code",
   "execution_count": 5,
   "id": "27c167c6",
   "metadata": {},
   "outputs": [
    {
     "data": {
      "application/vnd.jupyter.widget-view+json": {
       "model_id": "e8a312097ce746d490d29956addabecb",
       "version_major": 2,
       "version_minor": 0
      },
      "text/plain": [
       "GraphWidget(layout=Layout(height='500px', width='100%'))"
      ]
     },
     "metadata": {},
     "output_type": "display_data"
    },
    {
     "name": "stdout",
     "output_type": "stream",
     "text": [
      "Everything seems to work - Cleaning the database and starting with the real shit\n"
     ]
    }
   ],
   "source": [
    "# Create driver \n",
    "driver = GraphDatabase.driver(uri = neo4j_config.uri, auth = (neo4j_config.user, neo4j_config.password))\n",
    "\n",
    "#create a test-triple and show it\n",
    "query=\"CREATE p=(n:test)-[:test_relation]->(:test) return p\"\n",
    "g = Neo4jGraphWidget(driver=driver,layout=\"interactive_organic\")\n",
    "g.show_cypher(cypher=query)\n",
    "\n",
    "#cleaning the database\n",
    "query=\"MATCH (n) DETACH DELETE n\"\n",
    "DB_connection.send_query(query=query)\n",
    "\n",
    "print(\"Everything seems to work - Cleaning the database and starting with the real shit\")"
   ]
  },
  {
   "cell_type": "code",
   "execution_count": null,
   "id": "5eb3e271",
   "metadata": {},
   "outputs": [],
   "source": []
  }
 ],
 "metadata": {
  "kernelspec": {
   "display_name": "Python 3 (ipykernel)",
   "language": "python",
   "name": "python3"
  },
  "language_info": {
   "codemirror_mode": {
    "name": "ipython",
    "version": 3
   },
   "file_extension": ".py",
   "mimetype": "text/x-python",
   "name": "python",
   "nbconvert_exporter": "python",
   "pygments_lexer": "ipython3",
   "version": "3.9.15"
  }
 },
 "nbformat": 4,
 "nbformat_minor": 5
}
